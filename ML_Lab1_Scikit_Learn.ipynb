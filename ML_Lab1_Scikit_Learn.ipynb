{
 "cells": [
  {
   "cell_type": "code",
   "execution_count": 2,
   "metadata": {},
   "outputs": [],
   "source": [
    "# To support both python 2 and python 3\n",
    "from __future__ import division, print_function, unicode_literals\n",
    "\n",
    "%matplotlib inline\n",
    "import numpy as np\n",
    "import matplotlib.pyplot as plt\n",
    "# These steps are typically always called. The \"matplotlib inline\" is to display figures in this notebook itself\n",
    "\n",
    "\n",
    "import pandas as pd\n",
    "# pandas is a library for handling datasets; you will see some useful built-in functions in action\n",
    "\n",
    "import os # to move around your operating system\n",
    "\n",
    "import scipy as sp # scientific computation library\n",
    "\n",
    "from mpl_toolkits.mplot3d import axes3d # in case we need to plot in 3D z=f(x,y)\n",
    "import seaborn as sns # another package for pretty graphs\n",
    "\n",
    "# Scikit-learn (sklearn) is a powerful and fairly comprehensive library of ML algorithms\n",
    "\n",
    "from sklearn import datasets\n",
    "from sklearn.neighbors.kde import KernelDensity"
   ]
  },
  {
   "cell_type": "code",
   "execution_count": 5,
   "metadata": {},
   "outputs": [
    {
     "name": "stdout",
     "output_type": "stream",
     "text": [
      "(50,)\n"
     ]
    },
    {
     "data": {
      "text/plain": [
       "<matplotlib.collections.PathCollection at 0x2b4af45d3c8>"
      ]
     },
     "execution_count": 5,
     "metadata": {},
     "output_type": "execute_result"
    },
    {
     "data": {
      "image/png": "[encoded data removed]",
      "text/plain": [
       "<Figure size 432x288 with 1 Axes>"
      ]
     },
     "metadata": {
      "needs_background": "light"
     },
     "output_type": "display_data"
    }
   ],
   "source": [
    "def f1(x, m, c): # y = m*x + c (ground truth function)\n",
    "    return m*x + c \n",
    "xmin, xmax, npts = [-4, 10, 50]\n",
    "X = np.linspace(xmin, xmax, npts) # defining domain of the function as a vector of 50 real numbers between 0 and 5\n",
    "print(np.shape(X)) \n",
    "# Create data from ground truth function that is corrupted by additive Gaussian noise of mean 0 and std. dev. 4\n",
    "y0 = f1(X, -3., 9.) + np.random.normal(0,scale=4, size=np.shape(X))  \n",
    "plt.scatter(X, y0, marker='o', c='k')  #draw 散点图"
   ]
  },
  {
   "cell_type": "code",
   "execution_count": 6,
   "metadata": {},
   "outputs": [
    {
     "name": "stdout",
     "output_type": "stream",
     "text": [
      "training pair  (33,) (33,) testing pair  (17,) (17,)\n"
     ]
    },
    {
     "data": {
      "image/png": "[encoded data removed]",
      "text/plain": [
       "<Figure size 432x288 with 1 Axes>"
      ]
     },
     "metadata": {
      "needs_background": "light"
     },
     "output_type": "display_data"
    }
   ],
   "source": [
    "from sklearn.model_selection import train_test_split\n",
    "\n",
    "X_train, X_test, y_train, y_test = train_test_split(X, y0, test_size=0.33, random_state=42)\n",
    "plt.scatter(X_train, y_train, c='b')\n",
    "plt.scatter(X_test, y_test, marker='+', c='r')\n",
    "print(\"training pair \",X_train.shape, y_train.shape, \"testing pair \", X_test.shape,   y_test.shape)"
   ]
  },
  {
   "cell_type": "code",
   "execution_count": 7,
   "metadata": {},
   "outputs": [
    {
     "name": "stdout",
     "output_type": "stream",
     "text": [
      "Checking that the shapes of arrays are compatible  (33, 1) (33,)\n",
      "trained model has slope  -3.0929182221572633  and intercept  9.705558232485682\n",
      "Explicit caculation  [[-18.57255123 -19.45624215   8.82186731  14.12401284   7.93817639\n",
      "    0.86864903  -7.96826018  -5.31718742  22.07723112 -16.80516939\n",
      "   -1.78242374  -7.08456926  17.65877652  -3.54980558  12.35663099\n",
      "   -9.73564202  21.1935402    3.51972179  20.30984928 -15.92147847\n",
      "   -8.8519511    1.75233995 -13.2704057   13.24032191   2.63603087\n",
      "    6.17079455 -21.22362399   4.40341271  15.89139468 -15.03778754\n",
      "    9.70555823  -2.66611466 -11.50302386]]\n",
      "Using scikit-learn  [-18.57255123 -19.45624215   8.82186731  14.12401284   7.93817639\n",
      "   0.86864903  -7.96826018  -5.31718742  22.07723112 -16.80516939\n",
      "  -1.78242374  -7.08456926  17.65877652  -3.54980558  12.35663099\n",
      "  -9.73564202  21.1935402    3.51972179  20.30984928 -15.92147847\n",
      "  -8.8519511    1.75233995 -13.2704057   13.24032191   2.63603087\n",
      "   6.17079455 -21.22362399   4.40341271  15.89139468 -15.03778754\n",
      "   9.70555823  -2.66611466 -11.50302386]\n"
     ]
    }
   ],
   "source": [
    "from sklearn import linear_model\n",
    "X_train, X_test, y_train, y_test = train_test_split(X, y0, test_size=0.33, random_state=42)\n",
    "\n",
    "regr = linear_model.LinearRegression()\n",
    "# Train the model using the training sets\n",
    "\n",
    "X_train = np.atleast_2d(X_train).T\n",
    "print(\"Checking that the shapes of arrays are compatible \", X_train.shape, y_train.shape) \n",
    "\n",
    "regr.fit(X_train, y_train) # this is the common interface for all data fitting procedures in scikit-learn\n",
    "print(\"trained model has slope \", regr.coef_[0], \" and intercept \", regr.intercept_)\n",
    "yhat0 = (regr.intercept_ + np.atleast_2d(X_train*regr.coef_)).T\n",
    "print(\"Explicit caculation \", yhat0)\n",
    "y_fit0 = regr.predict(X_train)\n",
    "print(\"Using scikit-learn \", y_fit0)"
   ]
  },
  {
   "cell_type": "code",
   "execution_count": 8,
   "metadata": {},
   "outputs": [
    {
     "name": "stdout",
     "output_type": "stream",
     "text": [
      "Checking that the shapes of arrays are compatible  (17, 1) (17,)\n"
     ]
    },
    {
     "data": {
      "text/plain": [
       "<matplotlib.collections.PathCollection at 0x2b4af56d390>"
      ]
     },
     "execution_count": 8,
     "metadata": {},
     "output_type": "execute_result"
    },
    {
     "data": {
      "image/png": "[encoded data removed]",
      "text/plain": [
       "<Figure size 432x288 with 1 Axes>"
      ]
     },
     "metadata": {
      "needs_background": "light"
     },
     "output_type": "display_data"
    }
   ],
   "source": [
    "regr.fit(X_train, y_train)\n",
    "\n",
    "X_test = np.atleast_2d(X_test).T\n",
    "print(\"Checking that the shapes of arrays are compatible \", X_test.shape, y_test.shape) \n",
    "\n",
    "\n",
    "y_fit1 = regr.predict(X_test)\n",
    "y_hat1 = (regr.intercept_ + np.atleast_2d(X_test*regr.coef_)).T\n",
    "\n",
    "\n",
    "\n",
    "plt.scatter(y_train, (y_fit0 - y_train),c='b')\n",
    "plt.scatter(y_test, (y_fit1 - y_test), c='r')\n",
    "# Checking for obvious differenes in errors for training ans test sets"
   ]
  }
 ],
 "metadata": {
  "kernelspec": {
   "display_name": "Python 3",
   "language": "python",
   "name": "python3"
  },
  "language_info": {
   "codemirror_mode": {
    "name": "ipython",
    "version": 3
   },
   "file_extension": ".py",
   "mimetype": "text/x-python",
   "name": "python",
   "nbconvert_exporter": "python",
   "pygments_lexer": "ipython3",
   "version": "3.7.3"
  }
 },
 "nbformat": 4,
 "nbformat_minor": 2
}
